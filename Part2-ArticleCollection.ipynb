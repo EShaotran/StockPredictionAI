{
 "cells": [
  {
   "cell_type": "markdown",
   "metadata": {},
   "source": [
    "# Deep Learning for Stock Market Prediction"
   ]
  },
  {
   "cell_type": "markdown",
   "metadata": {},
   "source": [
    "##### Ethan Shaotran, energize.ai"
   ]
  },
  {
   "cell_type": "markdown",
   "metadata": {},
   "source": [
    "##### https://www.energize.ai/2017/10/01/stock-prediction-2-article-collection-interpretation/"
   ]
  },
  {
   "cell_type": "markdown",
   "metadata": {},
   "source": [
    "### Part 2 Code"
   ]
  },
  {
   "cell_type": "code",
   "execution_count": 3,
   "metadata": {
    "collapsed": true
   },
   "outputs": [],
   "source": [
    "def SourceInt (url):\n",
    "    url = url.lower()\n",
    "    if ('cnn' in url):\n",
    "        sourceint = 1\n",
    "    elif ('fool.com' in url):\n",
    "        sourceint = 2\n",
    "    elif ('finance.yahoo.com' in url):\n",
    "        sourceint = 3\n",
    "    elif ('investopedia.com' in url):\n",
    "        sourceint = 4\n",
    "    elif ('businessinsider.com' in url):\n",
    "        sourceint = 5\n",
    "    elif ('marketwatch.com' in url):\n",
    "        sourceint = 6\n",
    "    elif ('forbes.com' in url):\n",
    "        sourceint = 7\n",
    "    elif ('thestreet.com' in url):\n",
    "        sourceint = 8\n",
    "    elif ('fortune.com' in url):\n",
    "        sourceint = 9\n",
    "    elif ('cnbc.com' in url):\n",
    "        sourceint = 10\n",
    "    elif ('nasdaq.com' in url):\n",
    "        sourceint = 11\n",
    "    elif ('investorplace.com' in url):\n",
    "        sourceint = 12\n",
    "    elif ('seekingalpha.com' in url):\n",
    "        sourceint = 13\n",
    "    else: sourceint = 0\n",
    "    return sourceint"
   ]
  },
  {
   "cell_type": "code",
   "execution_count": 1,
   "metadata": {
    "collapsed": true
   },
   "outputs": [],
   "source": [
    "def GetNewsURLs(Ticker):\n",
    "    links = NewsGen.google_news_search(Ticker+' stocks',100)\n",
    "    URLList=[]\n",
    "    for i in range(0,len(links)-1):\n",
    "        URLLink = links[i][1]\n",
    "        if not (SourceInt(URLLink) == 0):\n",
    "            URLList.append(URLLink)\n",
    "    print(\"Found \" + str(len(URLList)) + \" Articles for Stock \" + Ticker)\n",
    "    return URLList"
   ]
  },
  {
   "cell_type": "code",
   "execution_count": 2,
   "metadata": {
    "collapsed": true
   },
   "outputs": [],
   "source": [
    "def URLtoText (url):\n",
    "    article = Article(url)\n",
    "    article.download()\n",
    "    article.parse()\n",
    "    articletext = article.text\n",
    "    articledate = article.publish_date\n",
    "    return (articletext,articledate)"
   ]
  }
 ],
 "metadata": {
  "kernelspec": {
   "display_name": "Python 2",
   "language": "python",
   "name": "python2"
  },
  "language_info": {
   "codemirror_mode": {
    "name": "ipython",
    "version": 2
   },
   "file_extension": ".py",
   "mimetype": "text/x-python",
   "name": "python",
   "nbconvert_exporter": "python",
   "pygments_lexer": "ipython2",
   "version": "2.7.13"
  }
 },
 "nbformat": 4,
 "nbformat_minor": 2
}
