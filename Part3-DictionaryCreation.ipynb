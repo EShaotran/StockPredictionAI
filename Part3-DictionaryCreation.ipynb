{
 "cells": [
  {
   "cell_type": "markdown",
   "metadata": {},
   "source": [
    "# Deep Learning for Stock Market Prediction"
   ]
  },
  {
   "cell_type": "markdown",
   "metadata": {},
   "source": [
    "##### Ethan Shaotran, energize.ai"
   ]
  },
  {
   "cell_type": "markdown",
   "metadata": {},
   "source": [
    "##### https://www.energize.ai/2017/10/08/stock-prediction-3-article-analysis-part-1-dictionaries/"
   ]
  },
  {
   "cell_type": "markdown",
   "metadata": {},
   "source": [
    "### Part 3 Code"
   ]
  },
  {
   "cell_type": "code",
   "execution_count": null,
   "metadata": {
    "collapsed": true
   },
   "outputs": [],
   "source": [
    "#Positive Dictionary Creation:\n",
    "PositiveDictionary = open(‘PositiveWords.txt', 'r+’) #Open the files needed\n",
    "MD = pd.read_csv(‘PosWordsMD.csv')\n",
    "RealMD = pd.read_csv('MasterDictionary.csv’)\n",
    "\n",
    "for i in range(0,RealMD.shape[0]): #If a word in the Finance MD has a Positive Rating Greater than 0, add it\n",
    "    if (RealMD.get_value(I,\"Positive\") > 0):\n",
    "        word = RealMD.get_value(i,\"Word\")\n",
    "        PositiveDictionary.write(\"_\"+word+\"_\\n”)   \n",
    "\n",
    "for i in range(0,MD.shape[0]): #If the word is not already in the dictionary, automatically add it in\n",
    "    if not (\"_\"+MD.iloc[i][0]+\"_\" in PositiveDictionary):\n",
    "        word = MD.iloc[i][0]\n",
    "        PositiveDictionary.write(\"_\"+word+\"_\\n\")\n",
    "    \n",
    "PositiveDictionary.close() #Save and Close our New Positive Dict"
   ]
  },
  {
   "cell_type": "code",
   "execution_count": null,
   "metadata": {
    "collapsed": true
   },
   "outputs": [],
   "source": [
    "#Negative Dictionary Creation:\n",
    "NegativeDictionary = open('NegativeWords.txt', 'r+’) #Open the files needed\n",
    "MD = pd.read_csv('NegWordsMD.csv')\n",
    "\n",
    "for i in range(0,RealMD.shape[0]): #If a word in the Finance MD has a Negative Rating Greater than 0, add it\n",
    "    if (RealMD.get_value(i,\"Negative\") > 0):\n",
    "        word = RealMD.get_value(i,\"Word\")\n",
    "        NegativeDictionary.write(\"_\"+word+\"_\\n\")\n",
    "        \n",
    "for i in range(0,MD.shape[0]): #If the word is not already in the dictionary, automatically add it in\n",
    "    if not (\"_\"+MD.iloc[i][0]+\"_\" in PositiveDictionary):\n",
    "        word = MD.iloc[i][0]\n",
    "        NegativeDictionary.write(\"_\"+word+\"_\\n\")\n",
    "    \n",
    "NegativeDictionary.close() #Save and Close our New Negative Dict\n"
   ]
  }
 ],
 "metadata": {
  "kernelspec": {
   "display_name": "Python 2",
   "language": "python",
   "name": "python2"
  },
  "language_info": {
   "codemirror_mode": {
    "name": "ipython",
    "version": 2
   },
   "file_extension": ".py",
   "mimetype": "text/x-python",
   "name": "python",
   "nbconvert_exporter": "python",
   "pygments_lexer": "ipython2",
   "version": "2.7.13"
  }
 },
 "nbformat": 4,
 "nbformat_minor": 2
}
