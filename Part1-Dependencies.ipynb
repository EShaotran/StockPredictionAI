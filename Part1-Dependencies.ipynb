{
 "cells": [
  {
   "cell_type": "markdown",
   "metadata": {},
   "source": [
    "# Deep Learning for Stock Market Prediction"
   ]
  },
  {
   "cell_type": "markdown",
   "metadata": {},
   "source": [
    "##### Ethan Shaotran, energize.ai"
   ]
  },
  {
   "cell_type": "markdown",
   "metadata": {},
   "source": [
    "##### https://www.energize.ai/2017/09/24/stock-prediction-1-set-up-dependencies-road-map/"
   ]
  },
  {
   "cell_type": "markdown",
   "metadata": {},
   "source": [
    "### Part 1 Code"
   ]
  },
  {
   "cell_type": "code",
   "execution_count": 1,
   "metadata": {},
   "outputs": [
    {
     "name": "stderr",
     "output_type": "stream",
     "text": [
      "Using Theano backend.\n"
     ]
    }
   ],
   "source": [
    "#MAINLINE-DL Model:\n",
    "from keras.models import Sequential\n",
    "from keras.layers import Dense\n",
    "from keras.wrappers.scikit_learn import KerasRegressor\n",
    "from keras.models import model_from_json #Reload a model\n",
    "from sklearn.model_selection import cross_val_score\n",
    "from sklearn.model_selection import KFold\n",
    "from sklearn.preprocessing import StandardScaler\n",
    "from sklearn.pipeline import Pipeline\n",
    "from sklearn import datasets, linear_model, preprocessing\n",
    "from sklearn.metrics import mean_squared_error\n",
    "from sklearn.model_selection import train_test_split\n",
    "from matplotlib import pyplot as plt\n",
    "import pylab\n",
    "import numpy as np\n",
    "import pandas as pd\n",
    "from pandas import read_csv\n",
    "import requests\n",
    "from contextlib import closing\n",
    "import csv\n",
    "import os\n",
    "\n",
    "#Alpha Vantage - Data Point Requests:\n",
    "apikey = 'insert_apikey_here'\n",
    "\n",
    "#News Articles URL Searches: - news-corpus-builder\n",
    "from news_corpus_builder import NewsCorpusGenerator\n",
    "corpus_dir = '.' \n",
    "NewsGen = NewsCorpusGenerator(corpus_dir,'flat')\n",
    "\n",
    "#News Article Text Scraping:\n",
    "from newspaper import Article\n",
    "\n",
    "#Slope Algorithm\n",
    "import math\n",
    "\n",
    "#Numpy Random\n",
    "seed = 7\n",
    "np.random.seed(seed)\n",
    "\n",
    "#Variables\n",
    "look_ahead = 20 #How far to look ahead when calculating slope"
   ]
  },
  {
   "cell_type": "code",
   "execution_count": null,
   "metadata": {
    "collapsed": true
   },
   "outputs": [],
   "source": []
  }
 ],
 "metadata": {
  "kernelspec": {
   "display_name": "Python 2",
   "language": "python",
   "name": "python2"
  },
  "language_info": {
   "codemirror_mode": {
    "name": "ipython",
    "version": 2
   },
   "file_extension": ".py",
   "mimetype": "text/x-python",
   "name": "python",
   "nbconvert_exporter": "python",
   "pygments_lexer": "ipython2",
   "version": "2.7.13"
  }
 },
 "nbformat": 4,
 "nbformat_minor": 2
}
